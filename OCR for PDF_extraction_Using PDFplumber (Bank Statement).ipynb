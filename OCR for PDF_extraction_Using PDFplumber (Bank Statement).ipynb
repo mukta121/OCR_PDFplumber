{
 "cells": [
  {
   "cell_type": "code",
   "execution_count": 294,
   "metadata": {},
   "outputs": [],
   "source": [
    "import pandas as pd\n",
    "import numpy as np\n",
    "import re\n",
    "import os\n",
    "import pdfplumber\n",
    "import glob\n",
    "import pdfplumber\n",
    "import os"
   ]
  },
  {
   "cell_type": "code",
   "execution_count": 295,
   "metadata": {},
   "outputs": [],
   "source": [
    "location='path/Banks_Statement/'"
   ]
  },
  {
   "cell_type": "code",
   "execution_count": 296,
   "metadata": {},
   "outputs": [],
   "source": [
    "bank_statement_pdf=[]\n",
    "for foldername,subfolders,files in os.walk(location):\n",
    "    for file in files:\n",
    "        if file.endswith('.pdf'):\n",
    "            file1=os.path.join(foldername,file)\n",
    "            bank_statement_pdf.append(file1)"
   ]
  },
  {
   "cell_type": "code",
   "execution_count": 297,
   "metadata": {},
   "outputs": [
    {
     "data": {
      "text/plain": [
       "753"
      ]
     },
     "execution_count": 297,
     "metadata": {},
     "output_type": "execute_result"
    }
   ],
   "source": [
    "len(bank_statement_pdf)"
   ]
  },
  {
   "cell_type": "code",
   "execution_count": 1,
   "metadata": {},
   "outputs": [],
   "source": [
    "#bank_statement_pdf[:5]"
   ]
  },
  {
   "cell_type": "code",
   "execution_count": 2,
   "metadata": {},
   "outputs": [],
   "source": [
    "#bank_statement_pdf[1][-55:]"
   ]
  },
  {
   "cell_type": "code",
   "execution_count": 300,
   "metadata": {},
   "outputs": [],
   "source": [
    "final_df = pd.DataFrame()\n",
    "\n",
    "for file in bank_statement_pdf:\n",
    "    all_text = ''\n",
    "    with pdfplumber.open(file) as pdf:\n",
    "                for pdf_page in pdf.pages:\n",
    "                    single_page_text = pdf_page.extract_text()\n",
    "                    all_text = all_text + '\\n' + single_page_text\n",
    "    \n",
    "\n",
    "    def is_double_date(x):\n",
    "        import re\n",
    "        match = re.findall(r'(\\d+/\\d+/\\d+) (\\d+/\\d+/\\d+)',x)\n",
    "        return match \n",
    "    \n",
    "    ans=[x for x in all_text.split(\"\\n\") if is_double_date(x)]\n",
    "    #print(ans)\n",
    "    df=pd.DataFrame(columns=['Tran. Date','Value Date','Customer Ref.','Bank Ref.' ,'Credit Amount', 'Balance'])\n",
    "    for i,j in enumerate(ans):\n",
    "        x = [x for x in j.split(\" \") if x]\n",
    "        x = x[0:2] + x[-4:]\n",
    "        df.loc[i]=x\n",
    "    df=df.reset_index(drop=True)\n",
    "    df['Tran. Date']=pd.to_datetime(df['Tran. Date'])\n",
    "    df['Value Date']=pd.to_datetime(df['Value Date'])\n",
    "    #df['Credit Amount'] = df['Credit Amount'].str.replace(',',\"\").astype(float)\n",
    "    df['Balance'] = df['Balance'].str.replace(',',\"\",regex=True).str.replace('\\(',\"\",regex=True).str.replace('\\)',\"\",regex=True).astype(float)\n",
    "    df['Filename'] = file[-55:]\n",
    "    final_df = pd.concat([final_df,df],axis = 0)"
   ]
  },
  {
   "cell_type": "code",
   "execution_count": 301,
   "metadata": {},
   "outputs": [
    {
     "data": {
      "text/plain": [
       "(3363, 7)"
      ]
     },
     "execution_count": 301,
     "metadata": {},
     "output_type": "execute_result"
    }
   ],
   "source": [
    "bank_statement_data=final_df.copy(deep=True)\n",
    "bank_statement_data.shape"
   ]
  },
  {
   "cell_type": "code",
   "execution_count": 4,
   "metadata": {},
   "outputs": [],
   "source": [
    "#bank_statement_data.head()"
   ]
  },
  {
   "cell_type": "code",
   "execution_count": null,
   "metadata": {},
   "outputs": [],
   "source": []
  }
 ],
 "metadata": {
  "kernelspec": {
   "display_name": "Python 3",
   "language": "python",
   "name": "python3"
  },
  "language_info": {
   "codemirror_mode": {
    "name": "ipython",
    "version": 3
   },
   "file_extension": ".py",
   "mimetype": "text/x-python",
   "name": "python",
   "nbconvert_exporter": "python",
   "pygments_lexer": "ipython3",
   "version": "3.8.5"
  }
 },
 "nbformat": 4,
 "nbformat_minor": 4
}
